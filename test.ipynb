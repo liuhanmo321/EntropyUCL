{
 "cells": [
  {
   "cell_type": "code",
   "execution_count": 2,
   "metadata": {},
   "outputs": [],
   "source": [
    "import numpy as np"
   ]
  },
  {
   "cell_type": "code",
   "execution_count": 3,
   "metadata": {},
   "outputs": [],
   "source": [
    "labels = []\n",
    "for i in range(10):\n",
    "    temp_list = [i] * 4\n",
    "    labels += temp_list\n",
    "\n",
    "labels = np.array(labels)\n",
    "\n",
    "n_class_per_task = 2\n",
    "current_task = 0\n",
    "total_tasks = 5\n",
    "\n",
    "mask_1 = np.logical_and(labels >= current_task, labels < current_task + n_class_per_task)\n",
    "mask_2 = np.logical_and(labels >= current_task + n_class_per_task, labels < current_task + 2 * n_class_per_task)\n",
    "       \n",
    "# index_1 = [True for i, bol in enumerate(mask_1) if bol and i < int(len(mask_1) * 2 / 3)]\n",
    "index_2 = [i for i, bol in enumerate(mask_2) if bol]\n",
    "index_1 = [i for i, bol in enumerate(mask_1) if bol]\n",
    "\n",
    "final_index = np.concatenate([index_1[:int(len(index_1) * 2 / 3)], index_2[int(len(index_1) * 2 / 3):]])\n",
    "# final_index = index_2[int(len(index_1) * 2 / 3):]\n",
    "# index_1\n",
    "modified_mask_1 = np.array([i in final_index for i in range(len(labels))])\n"
   ]
  },
  {
   "cell_type": "code",
   "execution_count": 4,
   "metadata": {},
   "outputs": [],
   "source": [
    "targets = labels[modified_mask_1]\n",
    "# targets_str = [str(i) for i in targets]\n",
    "# labels = set(list(targets))\n",
    "label_dict = {}\n",
    "for tgt in targets:\n",
    "    if tgt in label_dict.keys():\n",
    "        label_dict[tgt] += 1\n",
    "    else:\n",
    "        label_dict[tgt] = 1"
   ]
  },
  {
   "cell_type": "code",
   "execution_count": 5,
   "metadata": {},
   "outputs": [
    {
     "data": {
      "text/plain": [
       "{0: 4, 1: 1, 3: 3}"
      ]
     },
     "execution_count": 5,
     "metadata": {},
     "output_type": "execute_result"
    }
   ],
   "source": [
    "label_dict"
   ]
  },
  {
   "cell_type": "code",
   "execution_count": 14,
   "metadata": {},
   "outputs": [
    {
     "data": {
      "text/plain": [
       "array([ True,  True,  True,  True,  True, False, False, False, False,\n",
       "       False, False, False, False,  True,  True,  True, False, False,\n",
       "       False, False, False, False, False, False, False, False, False,\n",
       "       False, False, False, False, False, False, False, False, False,\n",
       "       False, False, False, False])"
      ]
     },
     "execution_count": 14,
     "metadata": {},
     "output_type": "execute_result"
    }
   ],
   "source": [
    "modified_mask_1"
   ]
  },
  {
   "cell_type": "code",
   "execution_count": 10,
   "metadata": {},
   "outputs": [
    {
     "data": {
      "text/plain": [
       "array([ True,  True,  True,  True,  True,  True,  True,  True, False,\n",
       "       False, False, False, False, False, False, False, False, False,\n",
       "       False, False, False, False, False, False, False, False, False,\n",
       "       False, False, False, False, False, False, False, False, False,\n",
       "       False, False, False, False])"
      ]
     },
     "execution_count": 10,
     "metadata": {},
     "output_type": "execute_result"
    }
   ],
   "source": [
    "mask_1"
   ]
  },
  {
   "cell_type": "code",
   "execution_count": null,
   "metadata": {},
   "outputs": [],
   "source": [
    "import sklearn"
   ]
  },
  {
   "cell_type": "code",
   "execution_count": null,
   "metadata": {},
   "outputs": [],
   "source": []
  }
 ],
 "metadata": {
  "interpreter": {
   "hash": "0454423b3c854e55c89290c8b7ca5b2d6ae4e873868cc195a7317ccea3d0145e"
  },
  "kernelspec": {
   "display_name": "Python 3.8.13",
   "language": "python",
   "name": "python3"
  },
  "language_info": {
   "codemirror_mode": {
    "name": "ipython",
    "version": 3
   },
   "file_extension": ".py",
   "mimetype": "text/x-python",
   "name": "python",
   "nbconvert_exporter": "python",
   "pygments_lexer": "ipython3",
   "version": "3.8.13"
  },
  "orig_nbformat": 4
 },
 "nbformat": 4,
 "nbformat_minor": 2
}
